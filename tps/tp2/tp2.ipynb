{
 "cells": [
  {
   "cell_type": "code",
   "execution_count": null,
   "id": "0d1f0961",
   "metadata": {},
   "outputs": [
    {
     "ename": "FileNotFoundError",
     "evalue": "[Errno 2] No such file or directory: '../docs/in_example.exb'",
     "output_type": "error",
     "traceback": [
      "\u001b[31m---------------------------------------------------------------------------\u001b[39m",
      "\u001b[31mFileNotFoundError\u001b[39m                         Traceback (most recent call last)",
      "\u001b[36mCell\u001b[39m\u001b[36m \u001b[39m\u001b[32mIn[1]\u001b[39m\u001b[32m, line 8\u001b[39m\n\u001b[32m      5\u001b[39m output_file: \u001b[38;5;28mstr\u001b[39m = \u001b[33m\"\u001b[39m\u001b[33m../docs/out_exercice.exb\u001b[39m\u001b[33m\"\u001b[39m\n\u001b[32m      7\u001b[39m \u001b[38;5;66;03m# load the xml file and get tree structure\u001b[39;00m\n\u001b[32m----> \u001b[39m\u001b[32m8\u001b[39m xml_tree: ET.ElementTree = \u001b[43mET\u001b[49m\u001b[43m.\u001b[49m\u001b[43mparse\u001b[49m\u001b[43m(\u001b[49m\u001b[43minput_file\u001b[49m\u001b[43m)\u001b[49m\n\u001b[32m      9\u001b[39m root = xml_tree.getroot()\n",
      "\u001b[36mFile \u001b[39m\u001b[32m/usr/lib/python3.12/xml/etree/ElementTree.py:1204\u001b[39m, in \u001b[36mparse\u001b[39m\u001b[34m(source, parser)\u001b[39m\n\u001b[32m   1195\u001b[39m \u001b[38;5;250m\u001b[39m\u001b[33;03m\"\"\"Parse XML document into element tree.\u001b[39;00m\n\u001b[32m   1196\u001b[39m \n\u001b[32m   1197\u001b[39m \u001b[33;03m*source* is a filename or file object containing XML data,\u001b[39;00m\n\u001b[32m   (...)\u001b[39m\u001b[32m   1201\u001b[39m \n\u001b[32m   1202\u001b[39m \u001b[33;03m\"\"\"\u001b[39;00m\n\u001b[32m   1203\u001b[39m tree = ElementTree()\n\u001b[32m-> \u001b[39m\u001b[32m1204\u001b[39m \u001b[43mtree\u001b[49m\u001b[43m.\u001b[49m\u001b[43mparse\u001b[49m\u001b[43m(\u001b[49m\u001b[43msource\u001b[49m\u001b[43m,\u001b[49m\u001b[43m \u001b[49m\u001b[43mparser\u001b[49m\u001b[43m)\u001b[49m\n\u001b[32m   1205\u001b[39m \u001b[38;5;28;01mreturn\u001b[39;00m tree\n",
      "\u001b[36mFile \u001b[39m\u001b[32m/usr/lib/python3.12/xml/etree/ElementTree.py:558\u001b[39m, in \u001b[36mElementTree.parse\u001b[39m\u001b[34m(self, source, parser)\u001b[39m\n\u001b[32m    556\u001b[39m close_source = \u001b[38;5;28;01mFalse\u001b[39;00m\n\u001b[32m    557\u001b[39m \u001b[38;5;28;01mif\u001b[39;00m \u001b[38;5;129;01mnot\u001b[39;00m \u001b[38;5;28mhasattr\u001b[39m(source, \u001b[33m\"\u001b[39m\u001b[33mread\u001b[39m\u001b[33m\"\u001b[39m):\n\u001b[32m--> \u001b[39m\u001b[32m558\u001b[39m     source = \u001b[38;5;28;43mopen\u001b[39;49m\u001b[43m(\u001b[49m\u001b[43msource\u001b[49m\u001b[43m,\u001b[49m\u001b[43m \u001b[49m\u001b[33;43m\"\u001b[39;49m\u001b[33;43mrb\u001b[39;49m\u001b[33;43m\"\u001b[39;49m\u001b[43m)\u001b[49m\n\u001b[32m    559\u001b[39m     close_source = \u001b[38;5;28;01mTrue\u001b[39;00m\n\u001b[32m    560\u001b[39m \u001b[38;5;28;01mtry\u001b[39;00m:\n",
      "\u001b[31mFileNotFoundError\u001b[39m: [Errno 2] No such file or directory: '../docs/in_example.exb'"
     ]
    }
   ],
   "source": [
    "from xml.etree import ElementTree as ET\n",
    "from xml.etree.ElementTree import Element\n",
    "\n",
    "input_file: str = \"docs/in_example.exb\"\n",
    "output_file: str = \"docs/out_exercice.exb\"\n",
    "\n",
    "# load the xml file and get tree structure\n",
    "xml_tree: ET.ElementTree = ET.parse(input_file)\n",
    "root = xml_tree.getroot()"
   ]
  },
  {
   "cell_type": "code",
   "execution_count": null,
   "id": "4b4d52c4",
   "metadata": {},
   "outputs": [],
   "source": [
    "\n",
    "\n",
    "def create_event_node(\n",
    "    start: str, end: str, text: str\n",
    ") -> Element:\n",
    "    \"\"\"\n",
    "    Create a new event node with the given start, end and cleaned text\n",
    "    \"\"\"\n",
    "    event = Element(\"event\", attrib={\"start\": start, \"end\": end})\n",
    "    event.text = text\n",
    "    return event\n",
    "\n",
    "\n",
    "def summarize_tier(tier_node: Element) -> Element:\n",
    "    \"\"\"\n",
    "    This method extract list of events from given tier node and return a new tier node with grouped events\n",
    "    Args:\n",
    "        tier_node (Element): The tier node to process\n",
    "    Returns:\n",
    "        Element: A new tier node with grouped events\n",
    "    \"\"\"\n",
    "    try:\n",
    "        events = tier_node.findall(\"event\")\n",
    "        if not events or not events[0].text:\n",
    "            return\n",
    "\n",
    "        # remove all events from the tier node\n",
    "        for event in events:\n",
    "            tier_node.remove(event)\n",
    "        \n",
    "        start: str = \"\"\n",
    "        event_text: str = \"\"\n",
    "\n",
    "        # we group text of events with \"TT\" and create a new event with the text without \"TT\"\n",
    "        # we also keep the start of the first event and the end of the last event\n",
    "        for event in events:\n",
    "            if start == \"\":\n",
    "                start = event.get(\"start\")\n",
    "            event_text += event.text or \"\"\n",
    "\n",
    "            if \"TT\" not in event.text:\n",
    "                new_event = create_event_node(start, event.get(\"end\"), event_text.replace(\"TT\", \"\"))\n",
    "                tier_node.append(new_event)\n",
    "                \n",
    "                # we reset the event text and the start for the next loop\n",
    "                start = \"\"\n",
    "                event_text = \"\"\n",
    "\n",
    "        return tier_node\n",
    "    except Exception as e:\n",
    "        raise e\n"
   ]
  },
  {
   "cell_type": "code",
   "execution_count": null,
   "id": "8d26a934",
   "metadata": {},
   "outputs": [],
   "source": [
    "for tier_node in root.findall(\".//tier\"):\n",
    "    summarize_tier(tier_node)\n",
    "        "
   ]
  },
  {
   "cell_type": "code",
   "execution_count": null,
   "id": "39b16373",
   "metadata": {},
   "outputs": [],
   "source": [
    "xml_tree.write(output_file, encoding=\"utf-8\", xml_declaration=True)"
   ]
  }
 ],
 "metadata": {
  "kernelspec": {
   "display_name": ".venv",
   "language": "python",
   "name": "python3"
  },
  "language_info": {
   "codemirror_mode": {
    "name": "ipython",
    "version": 3
   },
   "file_extension": ".py",
   "mimetype": "text/x-python",
   "name": "python",
   "nbconvert_exporter": "python",
   "pygments_lexer": "ipython3",
   "version": "3.12.3"
  }
 },
 "nbformat": 4,
 "nbformat_minor": 5
}
