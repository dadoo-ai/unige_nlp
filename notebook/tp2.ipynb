{
 "cells": [
  {
   "cell_type": "code",
   "execution_count": 450,
   "id": "0d1f0961",
   "metadata": {},
   "outputs": [],
   "source": [
    "from xml.etree import ElementTree as ET\n",
    "from xml.etree.ElementTree import Element\n",
    "\n",
    "input_file: str = \"../docs/tp2/in_example.exb\"\n",
    "output_file: str = \"../docs/tp2/out_exercice.exb\"\n",
    "\n",
    "# load the xml file and get tree structure\n",
    "xml_tree: ET.ElementTree = ET.parse(input_file)\n",
    "root = xml_tree.getroot()"
   ]
  },
  {
   "cell_type": "code",
   "execution_count": 451,
   "id": "4b4d52c4",
   "metadata": {},
   "outputs": [],
   "source": [
    "\n",
    "\n",
    "def create_event_node(\n",
    "    start: str, end: str, text: str\n",
    ") -> Element:\n",
    "    \"\"\"\n",
    "    Create a new event node with the given start, end and cleaned text\n",
    "    \"\"\"\n",
    "    event = Element(\"event\", attrib={\"start\": start, \"end\": end})\n",
    "    event.text = text\n",
    "    return event\n",
    "\n",
    "\n",
    "def summarize_tier(tier_node: Element) -> Element:\n",
    "    \"\"\"\n",
    "    This method extract list of events from given tier node and return a new tier node with grouped events\n",
    "    Args:\n",
    "        tier_node (Element): The tier node to process\n",
    "    Returns:\n",
    "        Element: A new tier node with grouped events\n",
    "    \"\"\"\n",
    "    try:\n",
    "        events = tier_node.findall(\"event\")\n",
    "        if not events or not events[0].text:\n",
    "            return\n",
    "\n",
    "        # remove all events from the tier node\n",
    "        for event in events:\n",
    "            tier_node.remove(event)\n",
    "        \n",
    "        start: str = \"\"\n",
    "        event_text: str = \"\"\n",
    "\n",
    "        # we group text of events with \"TT\" and create a new event with the text without \"TT\"\n",
    "        # we also keep the start of the first event and the end of the last event\n",
    "        for event in events:\n",
    "            if start == \"\":\n",
    "                start = event.get(\"start\")\n",
    "            event_text += event.text or \"\"\n",
    "\n",
    "            if \"TT\" not in event.text:\n",
    "                new_event = create_event_node(start, event.get(\"end\"), event_text.replace(\"TT\", \"\"))\n",
    "                tier_node.append(new_event)\n",
    "                \n",
    "                # we reset the event text and the start for the next loop\n",
    "                start = \"\"\n",
    "                event_text = \"\"\n",
    "\n",
    "        return tier_node\n",
    "    except Exception as e:\n",
    "        raise e\n"
   ]
  },
  {
   "cell_type": "code",
   "execution_count": 452,
   "id": "8d26a934",
   "metadata": {},
   "outputs": [],
   "source": [
    "for tier_node in root.findall(\".//tier\"):\n",
    "    summarize_tier(tier_node)\n",
    "        "
   ]
  },
  {
   "cell_type": "code",
   "execution_count": 453,
   "id": "39b16373",
   "metadata": {},
   "outputs": [],
   "source": [
    "xml_tree.write(output_file, encoding=\"utf-8\", xml_declaration=True)"
   ]
  }
 ],
 "metadata": {
  "kernelspec": {
   "display_name": ".venv",
   "language": "python",
   "name": "python3"
  },
  "language_info": {
   "codemirror_mode": {
    "name": "ipython",
    "version": 3
   },
   "file_extension": ".py",
   "mimetype": "text/x-python",
   "name": "python",
   "nbconvert_exporter": "python",
   "pygments_lexer": "ipython3",
   "version": "3.12.3"
  }
 },
 "nbformat": 4,
 "nbformat_minor": 5
}
